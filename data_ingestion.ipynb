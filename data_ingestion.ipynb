{
 "cells": [
  {
   "cell_type": "code",
   "execution_count": 41,
   "metadata": {},
   "outputs": [
    {
     "data": {
      "text/plain": [
       "True"
      ]
     },
     "execution_count": 41,
     "metadata": {},
     "output_type": "execute_result"
    }
   ],
   "source": [
    "import os\n",
    "import time\n",
    "from dotenv import load_dotenv\n",
    "\n",
    "from unstructured.partition.auto import partition\n",
    "from unstructured.partition.pdf import partition_pdf\n",
    "from unstructured.partition.docx import partition_docx\n",
    "from unstructured.cleaners.core import clean\n",
    "from langchain.schema.document import Document\n",
    "from langchain_core.prompts import ChatPromptTemplate\n",
    "from langchain_community.document_loaders import TextLoader\n",
    "from langchain_groq import ChatGroq\n",
    "from langchain.memory import ConversationBufferMemory\n",
    "from langchain.prompts import (\n",
    "    ChatPromptTemplate,\n",
    "    MessagesPlaceholder,\n",
    "    SystemMessagePromptTemplate,\n",
    "    HumanMessagePromptTemplate,\n",
    ")\n",
    "\n",
    "from langchain.chains import LLMChain\n",
    "from langchain import hub\n",
    "from langchain.chains import create_history_aware_retriever, create_retrieval_chain\n",
    "from langchain.chains.combine_documents import create_stuff_documents_chain\n",
    "from langchain_community.chat_message_histories import ChatMessageHistory\n",
    "from langchain_community.vectorstores import Chroma\n",
    "from langchain_core.chat_history import BaseChatMessageHistory\n",
    "from langchain_core.output_parsers import StrOutputParser\n",
    "from langchain_core.runnables import RunnablePassthrough\n",
    "from langchain_core.runnables.history import RunnableWithMessageHistory\n",
    "from langchain_text_splitters import RecursiveCharacterTextSplitter\n",
    "from langchain_community.embeddings import OllamaEmbeddings\n",
    "\n",
    "load_dotenv()"
   ]
  },
  {
   "cell_type": "markdown",
   "metadata": {},
   "source": [
    "# Load and and prepare PDF Data"
   ]
  },
  {
   "cell_type": "code",
   "execution_count": 2,
   "metadata": {},
   "outputs": [],
   "source": [
    "# Import config\n",
    "from utils.utils import read_config\n",
    "\n",
    "partition_config = read_config(config_file=r\"config.yml\")[\"partitioning\"]"
   ]
  },
  {
   "cell_type": "code",
   "execution_count": 42,
   "metadata": {},
   "outputs": [],
   "source": [
    "pdf_path = \"data/TISAX Participant Handbook.pdf\"\n",
    "\n",
    "# elements = partition_pdf(filename=pdf_path,\n",
    "#                          extract_images_in_pdf=True,\n",
    "#                          extract_image_block_output_dir=\"data/images\",\n",
    "#                          extract_image_block_to_payload = False,\n",
    "#                          infer_table_structure= True,\n",
    "#                          #chunking_strategy = \"by_title\"\n",
    "#                          )\n",
    "\n",
    "elements = partition_pdf(filename=pdf_path,\n",
    "                         extract_images_in_pdf=False,\n",
    "                         extract_image_block_output_dir=\"data/images\",\n",
    "                         extract_image_block_to_payload = False,\n",
    "                         infer_table_structure= True,\n",
    "                         chunking_strategy = \"by_title\"\n",
    "                         )"
   ]
  },
  {
   "cell_type": "code",
   "execution_count": 30,
   "metadata": {},
   "outputs": [],
   "source": [
    "# from langchain_community.document_loaders import UnstructuredPDFLoader\n",
    "\n",
    "# loader = UnstructuredPDFLoader(pdf_path, mode=\"elements\", strategy= \"hi_res\")\n",
    "# data = loader.load()\n"
   ]
  },
  {
   "cell_type": "code",
   "execution_count": 4,
   "metadata": {},
   "outputs": [
    {
     "name": "stdout",
     "output_type": "stream",
     "text": [
      "620\n",
      "{'CompositeElement', 'Table'}\n",
      "0\n",
      "56\n",
      "0\n",
      "0\n",
      "0\n",
      "0\n",
      "0\n",
      "564\n"
     ]
    }
   ],
   "source": [
    "print(len(elements))\n",
    "print(set([el.category for el in elements]))\n",
    "print(len([el for el in elements if el.category ==\"Image\"]))\n",
    "print(len([el for el in elements if el.category ==\"Table\"]))\n",
    "print(len([el for el in elements if el.category ==\"FigureCaption\"]))\n",
    "print(len([el for el in elements if el.category ==\"ListItem\"]))\n",
    "print(len([el for el in elements if el.category ==\"UncategorizedText\"]))\n",
    "print(len([el for el in elements if el.category ==\"Title\"]))\n",
    "print(len([el for el in elements if el.category ==\"NarrativeText\"]))\n",
    "print(len([el for el in elements if el.category ==\"CompositeElement\"]))"
   ]
  },
  {
   "cell_type": "code",
   "execution_count": 43,
   "metadata": {},
   "outputs": [],
   "source": [
    "comp_elemts = [el for el in elements if el.category ==\"CompositeElement\"]\n",
    "for el in comp_elemts:\n",
    "    el.metadata.orig_elements = [e for e in el.metadata.orig_elements if e.category != \"Image\"]"
   ]
  },
  {
   "cell_type": "code",
   "execution_count": 44,
   "metadata": {},
   "outputs": [
    {
     "name": "stdout",
     "output_type": "stream",
     "text": [
      "[<unstructured.documents.elements.Title object at 0x318d90a40>, <unstructured.documents.elements.Title object at 0x318ee4830>, <unstructured.documents.elements.NarrativeText object at 0x318ee7f80>, <unstructured.documents.elements.NarrativeText object at 0x34101ee40>, <unstructured.documents.elements.NarrativeText object at 0x34101c3b0>, <unstructured.documents.elements.NarrativeText object at 0x34101f5f0>, <unstructured.documents.elements.NarrativeText object at 0x34101ec60>, <unstructured.documents.elements.NarrativeText object at 0x34101df70>, <unstructured.documents.elements.Title object at 0x34101c350>, <unstructured.documents.elements.NarrativeText object at 0x34101d370>, <unstructured.documents.elements.Title object at 0x34101d1f0>, <unstructured.documents.elements.NarrativeText object at 0x34101da90>]\n"
     ]
    }
   ],
   "source": [
    "print(comp_elemts[0].metadata.orig_elements)"
   ]
  },
  {
   "cell_type": "code",
   "execution_count": 45,
   "metadata": {},
   "outputs": [],
   "source": [
    "# Keep all the text elemnts except Images -- Phase-1\n",
    "# comp_elemts = [el for el in elements if el.category ==\"CompositeElement\"]\n",
    "\n",
    "# def partition_metadata(raw_elements, file_id=None,topic=None, category_id=None):\n",
    "#         text_elements=[]\n",
    "#         for element in raw_elements:\n",
    "#             if element.category != \"Image\":                    \n",
    "#                 if \"unstructured.documents.elements.Table\" in str(type(element)):\n",
    "#                     metadata = {key:str(value) for key, value in element.metadata.to_dict().items()}\n",
    "#                     metadata.update({'type':'table','file_id':file_id, 'category_id':category_id})\n",
    "#                     ele = clean(element.metadata.text_as_html, extra_whitespace=True)\n",
    "#                     text_elements.append(Document(page_content=ele,metadata=metadata))\n",
    "#                 else:\n",
    "#                     metadata = {key:str(value) for key, value in element.metadata.to_dict().items()}\n",
    "#                     metadata.update({'type':'text','file_id':file_id,'category_id':category_id})\n",
    "#                     text_elements.append(Document(page_content=str(element),metadata=metadata))\n",
    "                \n",
    "#         return text_elements\n",
    "\n",
    "def partition_metadata(raw_elements, file_id=None,topic=None, category_id=None):\n",
    "        text_elements=[]\n",
    "        table_elements=[]\n",
    "        for element in raw_elements:\n",
    "            if \"unstructured.documents.elements.CompositeElement\" in str(type(element)):\n",
    "                metadata = {key:str(value) for key, value in element.metadata.to_dict().items()}\n",
    "                metadata.update({'type':'text','file_id':file_id,'category_id':category_id})\n",
    "                text_elements.append(Document(page_content=str(element),metadata=metadata))\n",
    "            elif \"unstructured.documents.elements.Table\" in str(type(element)):\n",
    "                metadata = {key:str(value) for key, value in element.metadata.to_dict().items()}\n",
    "                metadata.update({'type':'table','file_id':file_id, 'category_id':category_id})\n",
    "                ele = clean(element.metadata.text_as_html, extra_whitespace=True)\n",
    "                table_elements.append(Document(page_content=ele,metadata=metadata))\n",
    "                \n",
    "        return text_elements + table_elements\n",
    "\n",
    "        "
   ]
  },
  {
   "cell_type": "code",
   "execution_count": 46,
   "metadata": {},
   "outputs": [
    {
     "name": "stdout",
     "output_type": "stream",
     "text": [
      "If you “unfold” the ISA spider web to the question level, you get a similar green/red view on the question level:\n",
      "\n",
      "TISAX Participant Handbook 2.7.2\n",
      "\n",
      "Page 77 of 147\n",
      "\n",
      "5. Assessment (Step 2)\n",
      "\n",
      "QUESTION) 041254949 5 MATUR ty Levee @oo (ooo) @oo e@oo JOuk RESULT Soe= | YOU ARE READY May NOT BE SUPICIENT | FOR A TISAX FOR TISAX LABRS | ASSSSHENT\n",
      "\n",
      "Figure 28. “Unfolding” the ISA spider web diagram\n"
     ]
    }
   ],
   "source": [
    "docs = partition_metadata(comp_elemts, file_id= \"123\",topic=\"TISAX\", category_id= \"12345\")\n",
    "print(docs[290].page_content)"
   ]
  },
  {
   "cell_type": "markdown",
   "metadata": {},
   "source": [
    "## Chunking"
   ]
  },
  {
   "cell_type": "code",
   "execution_count": 47,
   "metadata": {},
   "outputs": [],
   "source": [
    "# Lets try with default chunking first"
   ]
  },
  {
   "cell_type": "markdown",
   "metadata": {},
   "source": [
    "## Vector DB"
   ]
  },
  {
   "cell_type": "code",
   "execution_count": 48,
   "metadata": {},
   "outputs": [],
   "source": [
    "from langchain_community.vectorstores import Chroma\n",
    "import chromadb\n",
    "import ollama\n",
    "ollama.pull(\"nomic-embed-text\")\n",
    "from langchain_community.embeddings import OllamaEmbeddings\n"
   ]
  },
  {
   "cell_type": "code",
   "execution_count": 59,
   "metadata": {},
   "outputs": [],
   "source": [
    "vectorstore = Chroma.from_documents(documents=docs, embedding=OllamaEmbeddings(model=\"nomic-embed-text\"), collection_name=\"TISAX\", persist_directory=\"./vectordb/\")"
   ]
  },
  {
   "cell_type": "code",
   "execution_count": 61,
   "metadata": {},
   "outputs": [],
   "source": [
    "from langchain_chroma import Chroma\n",
    "vdb = Chroma(persist_directory=\"./vectordb/\", collection_name=\"TISAX\", embedding_function=OllamaEmbeddings(model=\"nomic-embed-text\"))"
   ]
  },
  {
   "cell_type": "markdown",
   "metadata": {},
   "source": [
    "## Call LLM"
   ]
  },
  {
   "cell_type": "code",
   "execution_count": 50,
   "metadata": {},
   "outputs": [],
   "source": [
    "llm = ChatGroq(temperature=0, model_name=os.getenv(\"MODEL_NAME\"), groq_api_key=os.getenv(\"GROQ_API_KEY\"))"
   ]
  },
  {
   "cell_type": "code",
   "execution_count": 62,
   "metadata": {},
   "outputs": [],
   "source": [
    "retriever = vdb.as_retriever()\n",
    "# Load the Contextualize prompt from a file\n",
    "with open(r'system_prompt.txt', 'r') as file:\n",
    "    contextualize_q_system_prompt = file.read().strip()\n",
    "\n",
    "contextualize_q_prompt = ChatPromptTemplate.from_messages([\n",
    "SystemMessagePromptTemplate.from_template(contextualize_q_system_prompt),\n",
    "MessagesPlaceholder(variable_name=\"chat_history\"),\n",
    "HumanMessagePromptTemplate.from_template(\"{input}\")\n",
    "])\n",
    "\n",
    "history_aware_retriever = create_history_aware_retriever(llm, retriever, contextualize_q_prompt)\n",
    "\n",
    "\n",
    "### Answer question ###\n",
    "qa_system_prompt = \"\"\"You are a helpful assistant for Daimler truck cyber security department. You can answer the user query from the given context below:\n",
    "\n",
    "{context}\"\"\"\n",
    "\n",
    "qa_prompt = ChatPromptTemplate.from_messages([\n",
    "    (\"system\", qa_system_prompt),\n",
    "    MessagesPlaceholder(\"chat_history\"),\n",
    "    (\"human\", \"{input}\")\n",
    "    ])\n",
    "\n",
    "question_answer_chain = create_stuff_documents_chain(llm, qa_prompt)\n",
    "rag_chain = create_retrieval_chain(history_aware_retriever, question_answer_chain)\n",
    "\n",
    "### Statefully manage chat history ###\n",
    "store = {}\n",
    "def get_session_history(session_id: str) -> BaseChatMessageHistory:\n",
    "    \n",
    "    if session_id not in store:\n",
    "        store[session_id] = ChatMessageHistory()\n",
    "    return store[session_id]\n",
    "\n",
    "conversational_rag_chain = RunnableWithMessageHistory(rag_chain, get_session_history, input_messages_key=\"input\", history_messages_key=\"chat_history\",output_messages_key=\"answer\")\n"
   ]
  },
  {
   "cell_type": "code",
   "execution_count": 63,
   "metadata": {},
   "outputs": [],
   "source": [
    "def process(text):\n",
    "    start_time = time.time()\n",
    "\n",
    "    # Go get the response from the LLM\n",
    "    response = conversational_rag_chain.invoke({\"input\": text}, config={\"configurable\": {\"session_id\": \"abc123\"}})\n",
    "    # response = self.conversation.invoke({\"text\": text})\n",
    "    end_time = time.time()\n",
    "\n",
    "    elapsed_time = int((end_time - start_time) * 1000)\n",
    "    #print(f\"LLM ({elapsed_time}ms): {response['answer']}\")\n",
    "    return response[\"answer\"]"
   ]
  },
  {
   "cell_type": "code",
   "execution_count": 64,
   "metadata": {},
   "outputs": [
    {
     "name": "stdout",
     "output_type": "stream",
     "text": [
      "To enroll for TISAX, you need to start with the registration process, which is the first step. Here's a general outline:\n",
      "\n",
      "1. **Prepare for the online registration process**: Before you begin, make sure you have all the necessary information and documents ready.\n",
      "2. **Go through the online registration process**: Follow the instructions provided in the TISAX Participant Handbook (Section 4, \"Registration (Step 1)\") to complete the online registration.\n",
      "3. **Refer to additional resources if needed**: If you need more information or clarification, you can refer to Section 6, \"Exchange (Step 3)\" of the handbook.\n",
      "\n",
      "Please note that the estimated reading time for the registration section is 30-40 minutes, so make sure you allocate sufficient time to complete the process.\n",
      "\n",
      "If you have any specific questions or need further assistance, feel free to ask!\n"
     ]
    }
   ],
   "source": [
    "print(process(\"how can I enroll for TISAX?\"))"
   ]
  },
  {
   "cell_type": "markdown",
   "metadata": {},
   "source": [
    "## Try to incorporate Image with vision models"
   ]
  },
  {
   "cell_type": "code",
   "execution_count": 37,
   "metadata": {},
   "outputs": [],
   "source": [
    "# Extract page numbers where figure caption is mentioned\n",
    "fig_pg_no = [el.metadata.page_number for el in elements if el.category ==\"FigureCaption\"]"
   ]
  },
  {
   "cell_type": "code",
   "execution_count": 38,
   "metadata": {},
   "outputs": [],
   "source": [
    "filterd_img_elemnts = [el for el in elements if (el.category==\"Image\") and (el.metadata.page_number in fig_pg_no)]"
   ]
  },
  {
   "cell_type": "code",
   "execution_count": 45,
   "metadata": {},
   "outputs": [
    {
     "name": "stdout",
     "output_type": "stream",
     "text": [
      "None\n"
     ]
    }
   ],
   "source": [
    "print(filterd_img_elemnts[7].metadata.image_base64)"
   ]
  },
  {
   "cell_type": "code",
   "execution_count": 113,
   "metadata": {},
   "outputs": [],
   "source": [
    "import base64\n",
    "from IPython.display import Image, display\n",
    "\n",
    "def display_base64_image(base64_code):\n",
    "    # Decode the base64 string to binary\n",
    "    image_data = base64.b64decode(base64_code)\n",
    "    # Display the image\n",
    "    display(Image(data=image_data))"
   ]
  },
  {
   "cell_type": "code",
   "execution_count": 120,
   "metadata": {},
   "outputs": [
    {
     "data": {
      "image/jpeg": "[encoded data removed]",
      "text/plain": [
       "<IPython.core.display.Image object>"
      ]
     },
     "metadata": {},
     "output_type": "display_data"
    }
   ],
   "source": [
    "display_base64_image(filterd_img_elemnts[7].metadata.image_base64)"
   ]
  },
  {
   "cell_type": "code",
   "execution_count": null,
   "metadata": {},
   "outputs": [],
   "source": []
  }
 ],
 "metadata": {
  "kernelspec": {
   "display_name": "chatbot_env",
   "language": "python",
   "name": "python3"
  },
  "language_info": {
   "codemirror_mode": {
    "name": "ipython",
    "version": 3
   },
   "file_extension": ".py",
   "mimetype": "text/x-python",
   "name": "python",
   "nbconvert_exporter": "python",
   "pygments_lexer": "ipython3",
   "version": "3.12.0"
  }
 },
 "nbformat": 4,
 "nbformat_minor": 2
}
